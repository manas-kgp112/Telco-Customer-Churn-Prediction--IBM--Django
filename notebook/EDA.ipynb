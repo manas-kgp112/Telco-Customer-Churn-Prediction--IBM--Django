{
 "cells": [
  {
   "attachments": {},
   "cell_type": "markdown",
   "metadata": {},
   "source": [
    "# Telco Customer Churn Prediction"
   ]
  },
  {
   "cell_type": "code",
   "execution_count": 1,
   "metadata": {},
   "outputs": [],
   "source": [
    "# Importing libs\n",
    "import os\n",
    "import pandas as pd\n",
    "import numpy as np\n",
    "import matplotlib.pyplot as plt\n",
    "import sklearn as sk\n",
    "import seaborn as sns\n",
    "import plotly.express as px\n",
    "from sklearn.preprocessing import LabelEncoder, OneHotEncoder\n",
    "from sklearn.feature_selection import SelectKBest, chi2\n",
    "from sklearn.model_selection import train_test_split\n",
    "from sklearn.ensemble import RandomForestClassifier, BaggingClassifier\n",
    "from sklearn.metrics import accuracy_score, precision_score,recall_score, f1_score\n",
    "from sklearn.metrics import classification_report, confusion_matrix, ConfusionMatrixDisplay\n",
    "\n",
    "# Models\n",
    "from sklearn.linear_model import LogisticRegression\n",
    "from sklearn.naive_bayes import GaussianNB\n",
    "from sklearn.neighbors import KNeighborsClassifier\n",
    "from sklearn.svm import SVC\n",
    "from sklearn.ensemble import (\n",
    "    GradientBoostingClassifier,\n",
    "    AdaBoostClassifier,\n",
    "    StackingClassifier,\n",
    "    VotingClassifier\n",
    ")\n",
    "from xgboost import XGBClassifier\n",
    "from lightgbm import LGBMClassifier\n",
    "from sklearn.tree import DecisionTreeClassifier\n",
    "from catboost import CatBoostClassifier"
   ]
  },
  {
   "attachments": {},
   "cell_type": "markdown",
   "metadata": {},
   "source": [
    "## Get the data"
   ]
  },
  {
   "cell_type": "code",
   "execution_count": 2,
   "metadata": {},
   "outputs": [],
   "source": [
    "data_path = \"../artifacts/data\"\n",
    "files = os.listdir(data_path)\n",
    "files\n",
    "for file in files:\n",
    "    file_name = os.path.splitext(file)[0]\n",
    "    globals()[f'{file_name}_df'] = pd.read_excel(os.path.join(data_path, file))"
   ]
  },
  {
   "attachments": {},
   "cell_type": "markdown",
   "metadata": {},
   "source": [
    "df_s = [\n",
    "    \n",
    "    Telco_customer_churn_df,\n",
    "\n",
    "    Telco_customer_churn_demographics_df,\n",
    "\n",
    "    Telco_customer_churn_location_df,\n",
    "    \n",
    "    Telco_customer_churn_population_df,\n",
    "    \n",
    "    Telco_customer_churn_services_df,\n",
    "    \n",
    "    Telco_customer_churn_services_df,\n",
    "    \n",
    "    CustomerChurn_df\n",
    "]"
   ]
  },
  {
   "attachments": {},
   "cell_type": "markdown",
   "metadata": {},
   "source": [
    "## Data Analysis and EDA/Visualization"
   ]
  },
  {
   "cell_type": "code",
   "execution_count": 3,
   "metadata": {},
   "outputs": [
    {
     "data": {
      "text/html": [
       "<div>\n",
       "<style scoped>\n",
       "    .dataframe tbody tr th:only-of-type {\n",
       "        vertical-align: middle;\n",
       "    }\n",
       "\n",
       "    .dataframe tbody tr th {\n",
       "        vertical-align: top;\n",
       "    }\n",
       "\n",
       "    .dataframe thead th {\n",
       "        text-align: right;\n",
       "    }\n",
       "</style>\n",
       "<table border=\"1\" class=\"dataframe\">\n",
       "  <thead>\n",
       "    <tr style=\"text-align: right;\">\n",
       "      <th></th>\n",
       "      <th>CustomerID</th>\n",
       "      <th>Count</th>\n",
       "      <th>Country</th>\n",
       "      <th>State</th>\n",
       "      <th>City</th>\n",
       "      <th>Zip Code</th>\n",
       "      <th>Lat Long</th>\n",
       "      <th>Latitude</th>\n",
       "      <th>Longitude</th>\n",
       "      <th>Gender</th>\n",
       "      <th>...</th>\n",
       "      <th>Contract</th>\n",
       "      <th>Paperless Billing</th>\n",
       "      <th>Payment Method</th>\n",
       "      <th>Monthly Charges</th>\n",
       "      <th>Total Charges</th>\n",
       "      <th>Churn Label</th>\n",
       "      <th>Churn Value</th>\n",
       "      <th>Churn Score</th>\n",
       "      <th>CLTV</th>\n",
       "      <th>Churn Reason</th>\n",
       "    </tr>\n",
       "  </thead>\n",
       "  <tbody>\n",
       "    <tr>\n",
       "      <th>0</th>\n",
       "      <td>3668-QPYBK</td>\n",
       "      <td>1</td>\n",
       "      <td>United States</td>\n",
       "      <td>California</td>\n",
       "      <td>Los Angeles</td>\n",
       "      <td>90003</td>\n",
       "      <td>33.964131, -118.272783</td>\n",
       "      <td>33.964131</td>\n",
       "      <td>-118.272783</td>\n",
       "      <td>Male</td>\n",
       "      <td>...</td>\n",
       "      <td>Month-to-month</td>\n",
       "      <td>Yes</td>\n",
       "      <td>Mailed check</td>\n",
       "      <td>53.85</td>\n",
       "      <td>108.15</td>\n",
       "      <td>Yes</td>\n",
       "      <td>1</td>\n",
       "      <td>86</td>\n",
       "      <td>3239</td>\n",
       "      <td>Competitor made better offer</td>\n",
       "    </tr>\n",
       "    <tr>\n",
       "      <th>1</th>\n",
       "      <td>9237-HQITU</td>\n",
       "      <td>1</td>\n",
       "      <td>United States</td>\n",
       "      <td>California</td>\n",
       "      <td>Los Angeles</td>\n",
       "      <td>90005</td>\n",
       "      <td>34.059281, -118.30742</td>\n",
       "      <td>34.059281</td>\n",
       "      <td>-118.307420</td>\n",
       "      <td>Female</td>\n",
       "      <td>...</td>\n",
       "      <td>Month-to-month</td>\n",
       "      <td>Yes</td>\n",
       "      <td>Electronic check</td>\n",
       "      <td>70.70</td>\n",
       "      <td>151.65</td>\n",
       "      <td>Yes</td>\n",
       "      <td>1</td>\n",
       "      <td>67</td>\n",
       "      <td>2701</td>\n",
       "      <td>Moved</td>\n",
       "    </tr>\n",
       "    <tr>\n",
       "      <th>2</th>\n",
       "      <td>9305-CDSKC</td>\n",
       "      <td>1</td>\n",
       "      <td>United States</td>\n",
       "      <td>California</td>\n",
       "      <td>Los Angeles</td>\n",
       "      <td>90006</td>\n",
       "      <td>34.048013, -118.293953</td>\n",
       "      <td>34.048013</td>\n",
       "      <td>-118.293953</td>\n",
       "      <td>Female</td>\n",
       "      <td>...</td>\n",
       "      <td>Month-to-month</td>\n",
       "      <td>Yes</td>\n",
       "      <td>Electronic check</td>\n",
       "      <td>99.65</td>\n",
       "      <td>820.5</td>\n",
       "      <td>Yes</td>\n",
       "      <td>1</td>\n",
       "      <td>86</td>\n",
       "      <td>5372</td>\n",
       "      <td>Moved</td>\n",
       "    </tr>\n",
       "    <tr>\n",
       "      <th>3</th>\n",
       "      <td>7892-POOKP</td>\n",
       "      <td>1</td>\n",
       "      <td>United States</td>\n",
       "      <td>California</td>\n",
       "      <td>Los Angeles</td>\n",
       "      <td>90010</td>\n",
       "      <td>34.062125, -118.315709</td>\n",
       "      <td>34.062125</td>\n",
       "      <td>-118.315709</td>\n",
       "      <td>Female</td>\n",
       "      <td>...</td>\n",
       "      <td>Month-to-month</td>\n",
       "      <td>Yes</td>\n",
       "      <td>Electronic check</td>\n",
       "      <td>104.80</td>\n",
       "      <td>3046.05</td>\n",
       "      <td>Yes</td>\n",
       "      <td>1</td>\n",
       "      <td>84</td>\n",
       "      <td>5003</td>\n",
       "      <td>Moved</td>\n",
       "    </tr>\n",
       "    <tr>\n",
       "      <th>4</th>\n",
       "      <td>0280-XJGEX</td>\n",
       "      <td>1</td>\n",
       "      <td>United States</td>\n",
       "      <td>California</td>\n",
       "      <td>Los Angeles</td>\n",
       "      <td>90015</td>\n",
       "      <td>34.039224, -118.266293</td>\n",
       "      <td>34.039224</td>\n",
       "      <td>-118.266293</td>\n",
       "      <td>Male</td>\n",
       "      <td>...</td>\n",
       "      <td>Month-to-month</td>\n",
       "      <td>Yes</td>\n",
       "      <td>Bank transfer (automatic)</td>\n",
       "      <td>103.70</td>\n",
       "      <td>5036.3</td>\n",
       "      <td>Yes</td>\n",
       "      <td>1</td>\n",
       "      <td>89</td>\n",
       "      <td>5340</td>\n",
       "      <td>Competitor had better devices</td>\n",
       "    </tr>\n",
       "  </tbody>\n",
       "</table>\n",
       "<p>5 rows × 33 columns</p>\n",
       "</div>"
      ],
      "text/plain": [
       "   CustomerID  Count        Country       State         City  Zip Code   \n",
       "0  3668-QPYBK      1  United States  California  Los Angeles     90003  \\\n",
       "1  9237-HQITU      1  United States  California  Los Angeles     90005   \n",
       "2  9305-CDSKC      1  United States  California  Los Angeles     90006   \n",
       "3  7892-POOKP      1  United States  California  Los Angeles     90010   \n",
       "4  0280-XJGEX      1  United States  California  Los Angeles     90015   \n",
       "\n",
       "                 Lat Long   Latitude   Longitude  Gender  ...        Contract   \n",
       "0  33.964131, -118.272783  33.964131 -118.272783    Male  ...  Month-to-month  \\\n",
       "1   34.059281, -118.30742  34.059281 -118.307420  Female  ...  Month-to-month   \n",
       "2  34.048013, -118.293953  34.048013 -118.293953  Female  ...  Month-to-month   \n",
       "3  34.062125, -118.315709  34.062125 -118.315709  Female  ...  Month-to-month   \n",
       "4  34.039224, -118.266293  34.039224 -118.266293    Male  ...  Month-to-month   \n",
       "\n",
       "  Paperless Billing             Payment Method  Monthly Charges Total Charges   \n",
       "0               Yes               Mailed check            53.85        108.15  \\\n",
       "1               Yes           Electronic check            70.70        151.65   \n",
       "2               Yes           Electronic check            99.65         820.5   \n",
       "3               Yes           Electronic check           104.80       3046.05   \n",
       "4               Yes  Bank transfer (automatic)           103.70        5036.3   \n",
       "\n",
       "  Churn Label Churn Value Churn Score  CLTV                   Churn Reason  \n",
       "0         Yes           1          86  3239   Competitor made better offer  \n",
       "1         Yes           1          67  2701                          Moved  \n",
       "2         Yes           1          86  5372                          Moved  \n",
       "3         Yes           1          84  5003                          Moved  \n",
       "4         Yes           1          89  5340  Competitor had better devices  \n",
       "\n",
       "[5 rows x 33 columns]"
      ]
     },
     "execution_count": 3,
     "metadata": {},
     "output_type": "execute_result"
    }
   ],
   "source": [
    "Telco_customer_churn_df.head()"
   ]
  },
  {
   "cell_type": "code",
   "execution_count": 4,
   "metadata": {},
   "outputs": [
    {
     "name": "stdout",
     "output_type": "stream",
     "text": [
      "<class 'pandas.core.frame.DataFrame'>\n",
      "RangeIndex: 7043 entries, 0 to 7042\n",
      "Data columns (total 33 columns):\n",
      " #   Column             Non-Null Count  Dtype  \n",
      "---  ------             --------------  -----  \n",
      " 0   CustomerID         7043 non-null   object \n",
      " 1   Count              7043 non-null   int64  \n",
      " 2   Country            7043 non-null   object \n",
      " 3   State              7043 non-null   object \n",
      " 4   City               7043 non-null   object \n",
      " 5   Zip Code           7043 non-null   int64  \n",
      " 6   Lat Long           7043 non-null   object \n",
      " 7   Latitude           7043 non-null   float64\n",
      " 8   Longitude          7043 non-null   float64\n",
      " 9   Gender             7043 non-null   object \n",
      " 10  Senior Citizen     7043 non-null   object \n",
      " 11  Partner            7043 non-null   object \n",
      " 12  Dependents         7043 non-null   object \n",
      " 13  Tenure Months      7043 non-null   int64  \n",
      " 14  Phone Service      7043 non-null   object \n",
      " 15  Multiple Lines     7043 non-null   object \n",
      " 16  Internet Service   7043 non-null   object \n",
      " 17  Online Security    7043 non-null   object \n",
      " 18  Online Backup      7043 non-null   object \n",
      " 19  Device Protection  7043 non-null   object \n",
      " 20  Tech Support       7043 non-null   object \n",
      " 21  Streaming TV       7043 non-null   object \n",
      " 22  Streaming Movies   7043 non-null   object \n",
      " 23  Contract           7043 non-null   object \n",
      " 24  Paperless Billing  7043 non-null   object \n",
      " 25  Payment Method     7043 non-null   object \n",
      " 26  Monthly Charges    7043 non-null   float64\n",
      " 27  Total Charges      7043 non-null   object \n",
      " 28  Churn Label        7043 non-null   object \n",
      " 29  Churn Value        7043 non-null   int64  \n",
      " 30  Churn Score        7043 non-null   int64  \n",
      " 31  CLTV               7043 non-null   int64  \n",
      " 32  Churn Reason       1869 non-null   object \n",
      "dtypes: float64(3), int64(6), object(24)\n",
      "memory usage: 1.8+ MB\n"
     ]
    }
   ],
   "source": [
    "Telco_customer_churn_df.info()"
   ]
  },
  {
   "cell_type": "code",
   "execution_count": 5,
   "metadata": {},
   "outputs": [
    {
     "data": {
      "text/plain": [
       "Index(['CustomerID', 'Count', 'Country', 'State', 'City', 'Zip Code',\n",
       "       'Lat Long', 'Latitude', 'Longitude', 'Gender', 'Senior Citizen',\n",
       "       'Partner', 'Dependents', 'Tenure Months', 'Phone Service',\n",
       "       'Multiple Lines', 'Internet Service', 'Online Security',\n",
       "       'Online Backup', 'Device Protection', 'Tech Support', 'Streaming TV',\n",
       "       'Streaming Movies', 'Contract', 'Paperless Billing', 'Payment Method',\n",
       "       'Monthly Charges', 'Total Charges', 'Churn Label', 'Churn Value',\n",
       "       'Churn Score', 'CLTV', 'Churn Reason'],\n",
       "      dtype='object')"
      ]
     },
     "execution_count": 5,
     "metadata": {},
     "output_type": "execute_result"
    }
   ],
   "source": [
    "Telco_customer_churn_df.columns"
   ]
  },
  {
   "cell_type": "code",
   "execution_count": 6,
   "metadata": {},
   "outputs": [
    {
     "name": "stdout",
     "output_type": "stream",
     "text": [
      "Unique values for column 'Gender' : ['Male', 'Female'] having len 2\n",
      "Unique values for column 'Senior Citizen' : ['No', 'Yes'] having len 2\n",
      "Unique values for column 'Partner' : ['No', 'Yes'] having len 2\n",
      "Unique values for column 'Dependents' : ['No', 'Yes'] having len 2\n",
      "Unique values for column 'Phone Service' : ['Yes', 'No'] having len 2\n",
      "Unique values for column 'Multiple Lines' : ['No', 'Yes', 'No phone service'] having len 3\n",
      "Unique values for column 'Internet Service' : ['Fiber optic', 'DSL', 'No'] having len 3\n",
      "Unique values for column 'Online Security' : ['No', 'Yes', 'No internet service'] having len 3\n",
      "Unique values for column 'Online Backup' : ['No', 'Yes', 'No internet service'] having len 3\n",
      "Unique values for column 'Device Protection' : ['No', 'Yes', 'No internet service'] having len 3\n",
      "Unique values for column 'Tech Support' : ['No', 'Yes', 'No internet service'] having len 3\n",
      "Unique values for column 'Streaming TV' : ['No', 'Yes', 'No internet service'] having len 3\n",
      "Unique values for column 'Streaming Movies' : ['No', 'Yes', 'No internet service'] having len 3\n",
      "Unique values for column 'Contract' : ['Month-to-month', 'Two year', 'One year'] having len 3\n",
      "Unique values for column 'Paperless Billing' : ['Yes', 'No'] having len 2\n",
      "Unique values for column 'Payment Method' : ['Electronic check', 'Mailed check', 'Bank transfer (automatic)', 'Credit card (automatic)'] having len 4\n",
      "Unique values for column 'Churn Label' : ['No', 'Yes'] having len 2\n",
      "Unique values for column 'Churn Value' : [0, 1] having len 2\n"
     ]
    }
   ],
   "source": [
    "# Investigating all categorical values in the dataset\n",
    "categorical_data = []\n",
    "for column in Telco_customer_churn_df:\n",
    "    value_counts = pd.value_counts(Telco_customer_churn_df[column])\n",
    "    value_counts_len = len(value_counts.index.to_list())\n",
    "\n",
    "    if value_counts_len < 10 and value_counts_len!=1:\n",
    "        categorical_data.append(column)\n",
    "        print(f\"Unique values for column '{column}' : {value_counts.index.to_list()} having len {value_counts_len}\")"
   ]
  },
  {
   "cell_type": "code",
   "execution_count": null,
   "metadata": {},
   "outputs": [],
   "source": [
    "# Telco_customer_churn_df_copy = Telco_customer_churn_df.copy().fillna(''),\n",
    "# Telco_customer_churn_demographics_df_copy = Telco_customer_churn_demographics_df.copy().fillna(''),\n",
    "# Telco_customer_churn_location_df_copy = Telco_customer_churn_location_df.copy().fillna(''),\n",
    "# Telco_customer_churn_population_df_copy = Telco_customer_churn_population_df.copy().fillna(''),\n",
    "# Telco_customer_churn_services_df_copy = Telco_customer_churn_services_df.copy().fillna(''),\n",
    "# Telco_customer_churn_services_df_copy = Telco_customer_churn_services_df.copy().fillna(''),\n",
    "\n",
    "# df_s = [\n",
    "#     Telco_customer_churn_df_copy,\n",
    "#     Telco_customer_churn_demographics_df_copy,\n",
    "#     Telco_customer_churn_location_df_copy,\n",
    "#     Telco_customer_churn_population_df_copy,\n",
    "#     Telco_customer_churn_services_df_copy,\n",
    "#     Telco_customer_churn_services_df_copy\n",
    "# ]\n",
    "# os.makedirs(\"./df_info\", exist_ok=True)\n",
    "# count = 0\n",
    "# for df in enumerate(df_s):\n",
    "#     file_path = f'./df_info/{count}.txt'\n",
    "#     count+=1\n",
    "#     info_str = df.info(buf=None)\n",
    "#     with open(file_path, \"w\") as f:\n",
    "#         f.write(info_str)"
   ]
  },
  {
   "cell_type": "code",
   "execution_count": 7,
   "metadata": {},
   "outputs": [
    {
     "data": {
      "text/plain": [
       "['Gender',\n",
       " 'Senior Citizen',\n",
       " 'Partner',\n",
       " 'Dependents',\n",
       " 'Phone Service',\n",
       " 'Multiple Lines',\n",
       " 'Internet Service',\n",
       " 'Online Security',\n",
       " 'Online Backup',\n",
       " 'Device Protection',\n",
       " 'Tech Support',\n",
       " 'Streaming TV',\n",
       " 'Streaming Movies',\n",
       " 'Contract',\n",
       " 'Paperless Billing',\n",
       " 'Payment Method',\n",
       " 'Churn Label',\n",
       " 'Churn Value']"
      ]
     },
     "execution_count": 7,
     "metadata": {},
     "output_type": "execute_result"
    }
   ],
   "source": [
    "# The 5 df's (subset of telco_churn) demographics/location etc. are to be dealt with.\n",
    "categorical_data"
   ]
  },
  {
   "attachments": {},
   "cell_type": "markdown",
   "metadata": {},
   "source": [
    "#### Categorical Data"
   ]
  },
  {
   "cell_type": "code",
   "execution_count": null,
   "metadata": {},
   "outputs": [],
   "source": [
    "# Custom plot\n",
    "fig, axes = plt.subplots(9,2, figsize=(15,40))\n",
    "axes = axes.flatten()\n",
    "for i in range(len(categorical_data)):\n",
    "    features = categorical_data[i]\n",
    "    sns.countplot(x=features, data=Telco_customer_churn_df, palette = 'Set2', ax=axes[i], hue='Churn Value')\n",
    "\n",
    "plt.tight_layout()\n",
    "plt.show()"
   ]
  },
  {
   "attachments": {},
   "cell_type": "markdown",
   "metadata": {},
   "source": [
    "#### Continous Data"
   ]
  },
  {
   "cell_type": "code",
   "execution_count": null,
   "metadata": {},
   "outputs": [],
   "source": [
    "continous_data = ['Monthly Charges', 'Churn Score', 'CLTV']\n",
    "fig, axes = plt.subplots(3,1, figsize=(10,15))\n",
    "axes = axes.flatten()\n",
    "for i in range(len(continous_data)):\n",
    "    features = continous_data[i]\n",
    "    sns.histplot(x=features, data=Telco_customer_churn_df, ax=axes[i], palette='Paired', hue='Churn Value')\n",
    "plt.tight_layout()\n",
    "plt.show()"
   ]
  },
  {
   "cell_type": "code",
   "execution_count": null,
   "metadata": {},
   "outputs": [],
   "source": [
    "continous_data = ['Tenure in Months', 'Total Revenue', 'Total Charges']\n",
    "fig, axes = plt.subplots(3,1, figsize=(10,15))\n",
    "axes = axes.flatten()\n",
    "for i in range(len(continous_data)):\n",
    "    features = continous_data[i]\n",
    "    sns.histplot(x=features, data=Telco_customer_churn_services_df, ax=axes[i])\n",
    "plt.tight_layout()\n",
    "plt.show()"
   ]
  },
  {
   "attachments": {},
   "cell_type": "markdown",
   "metadata": {},
   "source": [
    "#### Number of Dependents"
   ]
  },
  {
   "cell_type": "code",
   "execution_count": null,
   "metadata": {},
   "outputs": [],
   "source": [
    "plt.figure(figsize=(8,10))\n",
    "sns.violinplot(Telco_customer_churn_demographics_df, y='Number of Dependents', color='m')\n",
    "plt.xlabel(\"Number of Dependents\")\n",
    "plt.ylabel(\"Count\")\n",
    "plt.title(\"Number of Dependents Count\")\n",
    "plt.show()"
   ]
  },
  {
   "cell_type": "code",
   "execution_count": null,
   "metadata": {},
   "outputs": [],
   "source": [
    "# Distribution of People around the city.\n",
    "fig = px.scatter_mapbox(\n",
    "    Telco_customer_churn_df,\n",
    "    lat = 'Latitude',\n",
    "    lon = 'Longitude',\n",
    "    color = 'Churn Score',\n",
    "    hover_name = 'Churn Value',\n",
    "    # size = 'Churn Value',\n",
    "    zoom = 5, \n",
    "    height = 800,\n",
    "    width = 800\n",
    ")\n",
    "fig.update_layout(mapbox_style=\"open-street-map\")\n",
    "fig.show()"
   ]
  },
  {
   "cell_type": "code",
   "execution_count": null,
   "metadata": {},
   "outputs": [],
   "source": [
    "# Reason for churn -> most imp to analyze\n",
    "plt.figure(figsize=(25,40))\n",
    "sns.countplot(y='Churn Reason', data=Telco_customer_churn_df)\n",
    "# plt.legend()\n",
    "plt.title(\"Churn Reasons\")\n",
    "sns.set(font_scale=5)\n",
    "# plt.tight_layout()\n",
    "plt.show()"
   ]
  },
  {
   "attachments": {},
   "cell_type": "markdown",
   "metadata": {},
   "source": [
    "## Feature Engineering"
   ]
  },
  {
   "cell_type": "code",
   "execution_count": 11,
   "metadata": {},
   "outputs": [],
   "source": [
    "df = Telco_customer_churn_df.copy()\n",
    "df.drop(['CustomerID', 'Lat Long', 'Churn Reason', 'Country', 'State', 'City', 'Zip Code', 'Churn Label', 'Count', 'Churn Score'], axis=1, inplace=True)"
   ]
  },
  {
   "cell_type": "code",
   "execution_count": 13,
   "metadata": {},
   "outputs": [
    {
     "data": {
      "text/plain": [
       "Index(['Latitude', 'Longitude', 'Gender', 'Senior Citizen', 'Partner',\n",
       "       'Dependents', 'Tenure Months', 'Phone Service', 'Multiple Lines',\n",
       "       'Internet Service', 'Online Security', 'Online Backup',\n",
       "       'Device Protection', 'Tech Support', 'Streaming TV', 'Streaming Movies',\n",
       "       'Contract', 'Paperless Billing', 'Payment Method', 'Monthly Charges',\n",
       "       'Total Charges', 'Churn Value', 'CLTV'],\n",
       "      dtype='object')"
      ]
     },
     "execution_count": 13,
     "metadata": {},
     "output_type": "execute_result"
    }
   ],
   "source": [
    "# one_hot_encoder = OneHotEncoder()\n",
    "# categorical_features = [\n",
    "#     'Gender', 'Senior Citizen', 'Partner', 'Dependents', 'Phone Service', 'Multiple Lines',\n",
    "#     'Internet Service','Online Security', 'Online Backup', 'Device Protection', 'Tech Support', \n",
    "#     'Streaming TV', 'Streaming Movies', 'Contract','Paperless Billing', 'Payment Method', 'Churn Value'\n",
    "# ]\n",
    "df.columns\n",
    "\n"
   ]
  },
  {
   "cell_type": "code",
   "execution_count": 14,
   "metadata": {},
   "outputs": [
    {
     "name": "stderr",
     "output_type": "stream",
     "text": [
      "a:\\M\\Hosted Projects\\Telco Customer Churn Prediction (IBM)\\venv\\lib\\site-packages\\sklearn\\preprocessing\\_encoders.py:868: FutureWarning: `sparse` was renamed to `sparse_output` in version 1.2 and will be removed in 1.4. `sparse_output` is ignored unless you leave `sparse` to its default value.\n",
      "  warnings.warn(\n"
     ]
    },
    {
     "data": {
      "text/html": [
       "<div>\n",
       "<style scoped>\n",
       "    .dataframe tbody tr th:only-of-type {\n",
       "        vertical-align: middle;\n",
       "    }\n",
       "\n",
       "    .dataframe tbody tr th {\n",
       "        vertical-align: top;\n",
       "    }\n",
       "\n",
       "    .dataframe thead th {\n",
       "        text-align: right;\n",
       "    }\n",
       "</style>\n",
       "<table border=\"1\" class=\"dataframe\">\n",
       "  <thead>\n",
       "    <tr style=\"text-align: right;\">\n",
       "      <th></th>\n",
       "      <th>Gender_Female</th>\n",
       "      <th>Gender_Male</th>\n",
       "      <th>Senior Citizen_No</th>\n",
       "      <th>Senior Citizen_Yes</th>\n",
       "      <th>Partner_No</th>\n",
       "      <th>Partner_Yes</th>\n",
       "      <th>Dependents_No</th>\n",
       "      <th>Dependents_Yes</th>\n",
       "      <th>Phone Service_No</th>\n",
       "      <th>Phone Service_Yes</th>\n",
       "      <th>...</th>\n",
       "      <th>Streaming Movies_Yes</th>\n",
       "      <th>Contract_Month-to-month</th>\n",
       "      <th>Contract_One year</th>\n",
       "      <th>Contract_Two year</th>\n",
       "      <th>Paperless Billing_No</th>\n",
       "      <th>Paperless Billing_Yes</th>\n",
       "      <th>Payment Method_Bank transfer (automatic)</th>\n",
       "      <th>Payment Method_Credit card (automatic)</th>\n",
       "      <th>Payment Method_Electronic check</th>\n",
       "      <th>Payment Method_Mailed check</th>\n",
       "    </tr>\n",
       "  </thead>\n",
       "  <tbody>\n",
       "    <tr>\n",
       "      <th>0</th>\n",
       "      <td>0.0</td>\n",
       "      <td>1.0</td>\n",
       "      <td>1.0</td>\n",
       "      <td>0.0</td>\n",
       "      <td>1.0</td>\n",
       "      <td>0.0</td>\n",
       "      <td>1.0</td>\n",
       "      <td>0.0</td>\n",
       "      <td>0.0</td>\n",
       "      <td>1.0</td>\n",
       "      <td>...</td>\n",
       "      <td>0.0</td>\n",
       "      <td>1.0</td>\n",
       "      <td>0.0</td>\n",
       "      <td>0.0</td>\n",
       "      <td>0.0</td>\n",
       "      <td>1.0</td>\n",
       "      <td>0.0</td>\n",
       "      <td>0.0</td>\n",
       "      <td>0.0</td>\n",
       "      <td>1.0</td>\n",
       "    </tr>\n",
       "    <tr>\n",
       "      <th>1</th>\n",
       "      <td>1.0</td>\n",
       "      <td>0.0</td>\n",
       "      <td>1.0</td>\n",
       "      <td>0.0</td>\n",
       "      <td>1.0</td>\n",
       "      <td>0.0</td>\n",
       "      <td>0.0</td>\n",
       "      <td>1.0</td>\n",
       "      <td>0.0</td>\n",
       "      <td>1.0</td>\n",
       "      <td>...</td>\n",
       "      <td>0.0</td>\n",
       "      <td>1.0</td>\n",
       "      <td>0.0</td>\n",
       "      <td>0.0</td>\n",
       "      <td>0.0</td>\n",
       "      <td>1.0</td>\n",
       "      <td>0.0</td>\n",
       "      <td>0.0</td>\n",
       "      <td>1.0</td>\n",
       "      <td>0.0</td>\n",
       "    </tr>\n",
       "    <tr>\n",
       "      <th>2</th>\n",
       "      <td>1.0</td>\n",
       "      <td>0.0</td>\n",
       "      <td>1.0</td>\n",
       "      <td>0.0</td>\n",
       "      <td>1.0</td>\n",
       "      <td>0.0</td>\n",
       "      <td>0.0</td>\n",
       "      <td>1.0</td>\n",
       "      <td>0.0</td>\n",
       "      <td>1.0</td>\n",
       "      <td>...</td>\n",
       "      <td>1.0</td>\n",
       "      <td>1.0</td>\n",
       "      <td>0.0</td>\n",
       "      <td>0.0</td>\n",
       "      <td>0.0</td>\n",
       "      <td>1.0</td>\n",
       "      <td>0.0</td>\n",
       "      <td>0.0</td>\n",
       "      <td>1.0</td>\n",
       "      <td>0.0</td>\n",
       "    </tr>\n",
       "    <tr>\n",
       "      <th>3</th>\n",
       "      <td>1.0</td>\n",
       "      <td>0.0</td>\n",
       "      <td>1.0</td>\n",
       "      <td>0.0</td>\n",
       "      <td>0.0</td>\n",
       "      <td>1.0</td>\n",
       "      <td>0.0</td>\n",
       "      <td>1.0</td>\n",
       "      <td>0.0</td>\n",
       "      <td>1.0</td>\n",
       "      <td>...</td>\n",
       "      <td>1.0</td>\n",
       "      <td>1.0</td>\n",
       "      <td>0.0</td>\n",
       "      <td>0.0</td>\n",
       "      <td>0.0</td>\n",
       "      <td>1.0</td>\n",
       "      <td>0.0</td>\n",
       "      <td>0.0</td>\n",
       "      <td>1.0</td>\n",
       "      <td>0.0</td>\n",
       "    </tr>\n",
       "    <tr>\n",
       "      <th>4</th>\n",
       "      <td>0.0</td>\n",
       "      <td>1.0</td>\n",
       "      <td>1.0</td>\n",
       "      <td>0.0</td>\n",
       "      <td>1.0</td>\n",
       "      <td>0.0</td>\n",
       "      <td>0.0</td>\n",
       "      <td>1.0</td>\n",
       "      <td>0.0</td>\n",
       "      <td>1.0</td>\n",
       "      <td>...</td>\n",
       "      <td>1.0</td>\n",
       "      <td>1.0</td>\n",
       "      <td>0.0</td>\n",
       "      <td>0.0</td>\n",
       "      <td>0.0</td>\n",
       "      <td>1.0</td>\n",
       "      <td>1.0</td>\n",
       "      <td>0.0</td>\n",
       "      <td>0.0</td>\n",
       "      <td>0.0</td>\n",
       "    </tr>\n",
       "  </tbody>\n",
       "</table>\n",
       "<p>5 rows × 43 columns</p>\n",
       "</div>"
      ],
      "text/plain": [
       "   Gender_Female  Gender_Male  Senior Citizen_No  Senior Citizen_Yes   \n",
       "0            0.0          1.0                1.0                 0.0  \\\n",
       "1            1.0          0.0                1.0                 0.0   \n",
       "2            1.0          0.0                1.0                 0.0   \n",
       "3            1.0          0.0                1.0                 0.0   \n",
       "4            0.0          1.0                1.0                 0.0   \n",
       "\n",
       "   Partner_No  Partner_Yes  Dependents_No  Dependents_Yes  Phone Service_No   \n",
       "0         1.0          0.0            1.0             0.0               0.0  \\\n",
       "1         1.0          0.0            0.0             1.0               0.0   \n",
       "2         1.0          0.0            0.0             1.0               0.0   \n",
       "3         0.0          1.0            0.0             1.0               0.0   \n",
       "4         1.0          0.0            0.0             1.0               0.0   \n",
       "\n",
       "   Phone Service_Yes  ...  Streaming Movies_Yes  Contract_Month-to-month   \n",
       "0                1.0  ...                   0.0                      1.0  \\\n",
       "1                1.0  ...                   0.0                      1.0   \n",
       "2                1.0  ...                   1.0                      1.0   \n",
       "3                1.0  ...                   1.0                      1.0   \n",
       "4                1.0  ...                   1.0                      1.0   \n",
       "\n",
       "   Contract_One year  Contract_Two year  Paperless Billing_No   \n",
       "0                0.0                0.0                   0.0  \\\n",
       "1                0.0                0.0                   0.0   \n",
       "2                0.0                0.0                   0.0   \n",
       "3                0.0                0.0                   0.0   \n",
       "4                0.0                0.0                   0.0   \n",
       "\n",
       "   Paperless Billing_Yes  Payment Method_Bank transfer (automatic)   \n",
       "0                    1.0                                       0.0  \\\n",
       "1                    1.0                                       0.0   \n",
       "2                    1.0                                       0.0   \n",
       "3                    1.0                                       0.0   \n",
       "4                    1.0                                       1.0   \n",
       "\n",
       "   Payment Method_Credit card (automatic)  Payment Method_Electronic check   \n",
       "0                                     0.0                              0.0  \\\n",
       "1                                     0.0                              1.0   \n",
       "2                                     0.0                              1.0   \n",
       "3                                     0.0                              1.0   \n",
       "4                                     0.0                              0.0   \n",
       "\n",
       "   Payment Method_Mailed check  \n",
       "0                          1.0  \n",
       "1                          0.0  \n",
       "2                          0.0  \n",
       "3                          0.0  \n",
       "4                          0.0  \n",
       "\n",
       "[5 rows x 43 columns]"
      ]
     },
     "execution_count": 14,
     "metadata": {},
     "output_type": "execute_result"
    }
   ],
   "source": [
    "dummy_cat_features = [\n",
    "    'Gender', 'Senior Citizen', 'Partner', 'Dependents', 'Phone Service', 'Multiple Lines',\n",
    "    'Internet Service','Online Security', 'Online Backup', 'Device Protection', 'Tech Support', \n",
    "    'Streaming TV', 'Streaming Movies', 'Contract','Paperless Billing', 'Payment Method'\n",
    "]\n",
    "ohe = OneHotEncoder(sparse=False)\n",
    "encoded_mat = ohe.fit_transform(df[dummy_cat_features])\n",
    "df_new = pd.DataFrame(encoded_mat, columns=ohe.get_feature_names_out(dummy_cat_features))\n",
    "df_new.head()"
   ]
  },
  {
   "attachments": {},
   "cell_type": "markdown",
   "metadata": {},
   "source": [
    "### Correlation Heatmap{Matrix}"
   ]
  },
  {
   "cell_type": "code",
   "execution_count": null,
   "metadata": {},
   "outputs": [],
   "source": [
    "df.info()"
   ]
  },
  {
   "cell_type": "code",
   "execution_count": null,
   "metadata": {},
   "outputs": [],
   "source": [
    "df['Total Charges'] = pd.to_numeric(df['Total Charges'], errors='coerce')"
   ]
  },
  {
   "cell_type": "code",
   "execution_count": null,
   "metadata": {},
   "outputs": [],
   "source": [
    "df.dropna(axis=0, inplace=True)"
   ]
  },
  {
   "cell_type": "code",
   "execution_count": null,
   "metadata": {},
   "outputs": [],
   "source": [
    "df.info()"
   ]
  },
  {
   "cell_type": "code",
   "execution_count": null,
   "metadata": {},
   "outputs": [],
   "source": [
    "corr_matrix = df.corr()\n",
    "corr_matrix[\"Churn Value\"].sort_values(ascending=False).to_frame()"
   ]
  },
  {
   "cell_type": "code",
   "execution_count": null,
   "metadata": {},
   "outputs": [],
   "source": [
    "plt.figure(figsize = (5,5))\n",
    "sns.set(font_scale=1)\n",
    "sns.heatmap(corr_matrix[\"Churn Value\"].sort_values(ascending=False).to_frame(), annot = True,linewidths = 0.4,linecolor = 'black')"
   ]
  },
  {
   "attachments": {},
   "cell_type": "markdown",
   "metadata": {},
   "source": [
    "Chi SQuare Test for Feature Selection"
   ]
  },
  {
   "cell_type": "code",
   "execution_count": null,
   "metadata": {},
   "outputs": [],
   "source": [
    "chi_cat_features = df.loc[:,categorical_features]\n",
    "chi_target = df.loc[:,'Churn Value']\n",
    "best_features_chi = SelectKBest(score_func=chi2, k='all')\n",
    "features_fit_chi = best_features_chi.fit(chi_cat_features, chi_target)\n",
    "features_score_chi = pd.DataFrame(data=features_fit_chi.scores_, index=list(chi_cat_features.columns), columns=['Chi Squared Score'])\n",
    "features_score_chi"
   ]
  },
  {
   "cell_type": "code",
   "execution_count": null,
   "metadata": {},
   "outputs": [],
   "source": [
    "plt.figure(figsize=(10,10))\n",
    "sns.heatmap(features_score_chi.sort_values(ascending = False,by = 'Chi Squared Score'), annot=True, fmt = '.2f')\n",
    "plt.title(\"Chi Square Test for Ctaegorical Feature Selection\")\n",
    "plt.show()"
   ]
  },
  {
   "cell_type": "code",
   "execution_count": null,
   "metadata": {},
   "outputs": [],
   "source": [
    "dummy_cat_features = [\n",
    "    'Gender', 'Senior Citizen', 'Partner', 'Dependents', 'Phone Service', 'Multiple Lines',\n",
    "    'Internet Service','Online Security', 'Online Backup', 'Device Protection', 'Tech Support', \n",
    "    'Streaming TV', 'Streaming Movies', 'Contract','Paperless Billing', 'Payment Method'\n",
    "]\n",
    "df = pd.get_dummies(df, columns=dummy_cat_features, drop_first=True)\n",
    "df.head()"
   ]
  },
  {
   "cell_type": "code",
   "execution_count": null,
   "metadata": {},
   "outputs": [],
   "source": [
    "df.info()"
   ]
  },
  {
   "attachments": {},
   "cell_type": "markdown",
   "metadata": {},
   "source": [
    "### Data Preparation"
   ]
  },
  {
   "cell_type": "code",
   "execution_count": null,
   "metadata": {},
   "outputs": [],
   "source": [
    "X = df.drop(['Churn Value'], axis=1).copy()\n",
    "Y = df['Churn Value']\n",
    "\n",
    "X_train, X_test, Y_train, Y_test = train_test_split(X, Y, test_size=0.2, random_state=42)"
   ]
  },
  {
   "cell_type": "code",
   "execution_count": null,
   "metadata": {},
   "outputs": [],
   "source": [
    "print(X_train.shape, Y_train.shape)\n",
    "print(X_test.shape, Y_test.shape)"
   ]
  },
  {
   "attachments": {},
   "cell_type": "markdown",
   "metadata": {},
   "source": [
    "## Model Training"
   ]
  },
  {
   "attachments": {},
   "cell_type": "markdown",
   "metadata": {},
   "source": [
    "### Model Preparation"
   ]
  },
  {
   "cell_type": "code",
   "execution_count": null,
   "metadata": {},
   "outputs": [],
   "source": [
    "models = {\n",
    "    'Logistic Regression' : LogisticRegression(),\n",
    "    'Gaussian Naive Bayes' : GaussianNB(),\n",
    "    'K Nearest Neighbors' : KNeighborsClassifier(),\n",
    "    'Support Vector Machine' : SVC(probability=True),\n",
    "    'Decision Tree Classifier' : DecisionTreeClassifier(),\n",
    "    'Random Forest Classifier' : RandomForestClassifier(),\n",
    "    'Bagging Classifier' : BaggingClassifier(\n",
    "        base_estimator=RandomForestClassifier(),\n",
    "        n_estimators=10\n",
    "    ),\n",
    "    'Gradient Boosting Classifier' : GradientBoostingClassifier(),\n",
    "    'AdaBoost' : AdaBoostClassifier(\n",
    "        base_estimator=DecisionTreeClassifier(),\n",
    "        n_estimators=50\n",
    "    ),\n",
    "    'Stacking Classifier' : StackingClassifier(\n",
    "        estimators=[\n",
    "            ('log_reg', LogisticRegression()),\n",
    "            ('random_forest', RandomForestClassifier()),\n",
    "            ('grad_boost', GradientBoostingClassifier())\n",
    "        ]\n",
    "    ),\n",
    "    'Voting Classifier' : VotingClassifier(\n",
    "        estimators=[\n",
    "            ('log_reg', LogisticRegression()),\n",
    "            ('random_forest', RandomForestClassifier()),\n",
    "            ('grad_boost', GradientBoostingClassifier())\n",
    "        ]\n",
    "    ),\n",
    "    'XgBoost' : XGBClassifier(),\n",
    "    'LightGBM' : LGBMClassifier(),\n",
    "    'Catboost' : CatBoostClassifier()\n",
    "    }\n",
    "model_accs = []\n",
    "model_precs = []\n",
    "model_recalls = []\n",
    "model_f1s = []\n",
    "\n",
    "\n",
    "# Models used for Training\n",
    "'''\n",
    "    1) RandomForestClassifier(n_estimators=100, class_weight={0:1,1:3})\n",
    "    2) XGBClassifier()\n",
    "    3) LGBMClassifier(learning_rate=0.09,max_depth=-5,scale_pos_weight =3,\n",
    "                    random_state=42, objective = 'binary')\n",
    "    4) Bagging Classifier\n",
    "'''"
   ]
  },
  {
   "attachments": {},
   "cell_type": "markdown",
   "metadata": {},
   "source": [
    "### Training"
   ]
  },
  {
   "cell_type": "code",
   "execution_count": null,
   "metadata": {},
   "outputs": [],
   "source": [
    "import warnings\n",
    "warnings.filterwarnings(\"ignore\")"
   ]
  },
  {
   "cell_type": "code",
   "execution_count": null,
   "metadata": {},
   "outputs": [],
   "source": [
    "for model_name, model in models.items():\n",
    "    model.fit(X_train, Y_train)\n",
    "    Y_pred = model.predict(X_test)\n",
    "    accuracy = accuracy_score(Y_test, Y_pred)\n",
    "    print(f\"Model : {model_name}\")\n",
    "    print(f\"Accuracy : {accuracy}\")\n",
    "    print(classification_report(Y_test, Y_pred))\n",
    "    print()"
   ]
  },
  {
   "cell_type": "code",
   "execution_count": null,
   "metadata": {},
   "outputs": [],
   "source": [
    "# hyperparams training\n",
    "param_grids = {\n",
    "    'Logistic Regression': {'C': [0.1, 1, 10],'max_iter':[1000, 10000]},\n",
    "    'Random Forest': {'n_estimators': [100, 200, 300], 'max_depth': [None, 5, 10]},\n",
    "    'Gradient Boosting': {'learning_rate': [0.1, 0.01], 'n_estimators': [100, 200, 300]},\n",
    "    'Support Vector Machine': {'C': [0.1, 1, 10], 'gamma': [0.1, 0.01]},\n",
    "    'Stacking': {},  # Stacking doesn't have hyperparameters to tune\n",
    "    'Bagging': {'n_estimators': [10, 20, 30]},\n",
    "    'AdaBoost': {'n_estimators': [50, 100, 150]},\n",
    "    'Voting': {}  # Voting doesn't have hyperparameters to tune\n",
    "}"
   ]
  },
  {
   "attachments": {},
   "cell_type": "markdown",
   "metadata": {},
   "source": [
    "#### Random Forest Classifier"
   ]
  },
  {
   "cell_type": "code",
   "execution_count": null,
   "metadata": {},
   "outputs": [],
   "source": [
    "random_forest_clf = RandomForestClassifier(n_estimators=100, class_weight={0:1,1:3})\n",
    "random_forest_clf.fit(X_train, Y_train)\n",
    "Y_pred = random_forest_clf.predict(X_test)\n",
    "models.append(\"Random Forest Classifier\")\n",
    "model_accs.append(accuracy_score(Y_test, Y_pred))\n",
    "model_precs.append(precision_score(Y_test, Y_pred))\n",
    "model_recalls.append(recall_score(Y_test, Y_pred))\n",
    "model_f1s.append(f1_score(Y_test, Y_pred))"
   ]
  },
  {
   "cell_type": "code",
   "execution_count": null,
   "metadata": {},
   "outputs": [],
   "source": [
    "# Let's print the classification report\n",
    "\n",
    "print(f\"Accuracy score : {accuracy_score(Y_test, Y_pred)}\")\n",
    "print(f\"Precision score : {precision_score(Y_test, Y_pred)}\")\n",
    "print(f\"Recall score : {recall_score(Y_test, Y_pred)}\")\n",
    "print(f\"F1 score : {f1_score(Y_test, Y_pred)}\")\n",
    "print(' ')\n",
    "print(classification_report(Y_test, Y_pred))"
   ]
  },
  {
   "cell_type": "code",
   "execution_count": null,
   "metadata": {},
   "outputs": [],
   "source": [
    "# Let's print the confusion matrix\n",
    "cm = confusion_matrix(Y_test, Y_pred)\n",
    "cm_disp = ConfusionMatrixDisplay(cm, display_labels=['No Churn', 'Churn'])\n",
    "cm_disp.plot()\n",
    "plt.grid(False)\n",
    "plt.show()"
   ]
  },
  {
   "attachments": {},
   "cell_type": "markdown",
   "metadata": {},
   "source": [
    "#### XGBoost"
   ]
  },
  {
   "cell_type": "code",
   "execution_count": null,
   "metadata": {},
   "outputs": [],
   "source": [
    "xgboost = XGBClassifier()\n",
    "xgboost.fit(X_train, Y_train)\n",
    "Y_pred = xgboost.predict(X_test)\n",
    "models.append(\"XGBoost\")\n",
    "model_accs.append(accuracy_score(Y_test, Y_pred))\n",
    "model_precs.append(precision_score(Y_test, Y_pred))\n",
    "model_recalls.append(recall_score(Y_test, Y_pred))\n",
    "model_f1s.append(f1_score(Y_test, Y_pred))"
   ]
  },
  {
   "cell_type": "code",
   "execution_count": null,
   "metadata": {},
   "outputs": [],
   "source": [
    "# Let's print the classification report\n",
    "\n",
    "print(f\"Accuracy score : {accuracy_score(Y_test, Y_pred)}\")\n",
    "print(f\"Precision score : {precision_score(Y_test, Y_pred)}\")\n",
    "print(f\"Recall score : {recall_score(Y_test, Y_pred)}\")\n",
    "print(f\"F1 score : {f1_score(Y_test, Y_pred)}\")\n",
    "print(' ')\n",
    "print(classification_report(Y_test, Y_pred))"
   ]
  },
  {
   "cell_type": "code",
   "execution_count": null,
   "metadata": {},
   "outputs": [],
   "source": [
    "# Let's print the confusion matrix\n",
    "\n",
    "cm = confusion_matrix(Y_test, Y_pred)\n",
    "cm_disp = ConfusionMatrixDisplay(cm, display_labels=['No Churn', 'Churn'])\n",
    "cm_disp.plot()\n",
    "plt.axis(False)\n",
    "plt.show()"
   ]
  },
  {
   "attachments": {},
   "cell_type": "markdown",
   "metadata": {},
   "source": [
    "#### Light GBM"
   ]
  },
  {
   "cell_type": "code",
   "execution_count": null,
   "metadata": {},
   "outputs": [],
   "source": [
    "lgbm = LGBMClassifier(learning_rate=0.09,max_depth=-5,scale_pos_weight =3, random_state=42, objective = 'binary')\n",
    "lgbm.fit(X_train, Y_train)\n",
    "Y_pred = lgbm.predict(X_test)\n",
    "models.append(\"Light GBM\")\n",
    "model_accs.append(accuracy_score(Y_test, Y_pred))\n",
    "model_precs.append(precision_score(Y_test, Y_pred))\n",
    "model_recalls.append(recall_score(Y_test, Y_pred))\n",
    "model_f1s.append(f1_score(Y_test, Y_pred))"
   ]
  },
  {
   "cell_type": "code",
   "execution_count": null,
   "metadata": {},
   "outputs": [],
   "source": [
    "# Let's print the classification report\n",
    "\n",
    "print(f\"Accuracy score : {accuracy_score(Y_test, Y_pred)}\")\n",
    "print(f\"Precision score : {precision_score(Y_test, Y_pred)}\")\n",
    "print(f\"Recall score : {recall_score(Y_test, Y_pred)}\")\n",
    "print(f\"F1 score : {f1_score(Y_test, Y_pred)}\")\n",
    "print(' ')\n",
    "print(classification_report(Y_test, Y_pred))"
   ]
  },
  {
   "cell_type": "code",
   "execution_count": null,
   "metadata": {},
   "outputs": [],
   "source": [
    "# Let's print the confusion matrix\n",
    "\n",
    "cm = confusion_matrix(Y_test, Y_pred)\n",
    "cm_disp = ConfusionMatrixDisplay(cm, display_labels=['No Churn', 'Churn'])\n",
    "cm_disp.plot()\n",
    "plt.grid(False)\n",
    "plt.show()"
   ]
  },
  {
   "attachments": {},
   "cell_type": "markdown",
   "metadata": {},
   "source": [
    "#### Bagging Classifier"
   ]
  },
  {
   "cell_type": "code",
   "execution_count": null,
   "metadata": {},
   "outputs": [],
   "source": [
    "bagging_clf = BaggingClassifier(estimator=DecisionTreeClassifier(), n_estimators=100, random_state=123)\n",
    "bagging_clf.fit(X_train, Y_train)\n",
    "Y_pred = bagging_clf.predict(X_test)\n",
    "\n",
    "models.append(\"Bagging Classifier\")\n",
    "model_accs.append(accuracy_score(Y_test, Y_pred))\n",
    "model_precs.append(precision_score(Y_test, Y_pred))\n",
    "model_recalls.append(recall_score(Y_test, Y_pred))\n",
    "model_f1s.append(f1_score(Y_test, Y_pred))"
   ]
  },
  {
   "cell_type": "code",
   "execution_count": null,
   "metadata": {},
   "outputs": [],
   "source": [
    "# Let's print the classification report\n",
    "\n",
    "print(f\"Accuracy score : {accuracy_score(Y_test, Y_pred)}\")\n",
    "print(f\"Precision score : {precision_score(Y_test, Y_pred)}\")\n",
    "print(f\"Recall score : {recall_score(Y_test, Y_pred)}\")\n",
    "print(f\"F1 score : {f1_score(Y_test, Y_pred)}\")\n",
    "print(' ')\n",
    "print(classification_report(Y_test, Y_pred))"
   ]
  },
  {
   "cell_type": "code",
   "execution_count": null,
   "metadata": {},
   "outputs": [],
   "source": [
    "# Let's print the confusion matrix\n",
    "\n",
    "cm = confusion_matrix(Y_test, Y_pred)\n",
    "cm_disp = ConfusionMatrixDisplay(cm, display_labels=['No Churn', 'Churn'])\n",
    "cm_disp.plot()\n",
    "plt.grid(False)\n",
    "plt.show()"
   ]
  },
  {
   "attachments": {},
   "cell_type": "markdown",
   "metadata": {},
   "source": [
    "### Evaluating Model Performances"
   ]
  },
  {
   "cell_type": "code",
   "execution_count": null,
   "metadata": {},
   "outputs": [],
   "source": [
    "model_dict = {\n",
    "    'Model': models,\n",
    "    'Precision': model_precs,\n",
    "    'Acuuracy': model_accs,\n",
    "    'Recall': model_recalls,\n",
    "    'F1': model_f1s\n",
    "}\n",
    "\n",
    "models_df = pd.DataFrame(model_dict)"
   ]
  },
  {
   "cell_type": "code",
   "execution_count": null,
   "metadata": {},
   "outputs": [],
   "source": [
    "models_df"
   ]
  },
  {
   "cell_type": "code",
   "execution_count": null,
   "metadata": {},
   "outputs": [],
   "source": []
  }
 ],
 "metadata": {
  "kernelspec": {
   "display_name": "Python 3",
   "language": "python",
   "name": "python3"
  },
  "language_info": {
   "codemirror_mode": {
    "name": "ipython",
    "version": 3
   },
   "file_extension": ".py",
   "mimetype": "text/x-python",
   "name": "python",
   "nbconvert_exporter": "python",
   "pygments_lexer": "ipython3",
   "version": "3.9.16"
  },
  "orig_nbformat": 4
 },
 "nbformat": 4,
 "nbformat_minor": 2
}
